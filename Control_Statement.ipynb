{
 "cells": [
  {
   "cell_type": "markdown",
   "metadata": {},
   "source": [
    "## Steps to slove a problem \n",
    "\n",
    "* problem definition and research \n",
    "* Requirement gathering and analysis\n",
    "* project synopsis \n",
    "* Algorithm \n",
    "* flow chart\n",
    "* coding\n",
    "* integration\n",
    "* testing \n",
    "* deploy\n",
    "* mantinence\n",
    "* feedback \n"
   ]
  },
  {
   "cell_type": "markdown",
   "metadata": {},
   "source": [
    "## 1. if-else statement"
   ]
  },
  {
   "cell_type": "code",
   "execution_count": 16,
   "metadata": {},
   "outputs": [
    {
     "name": "stdout",
     "output_type": "stream",
     "text": [
      "Statement1 \n",
      "Statement2\n"
     ]
    }
   ],
   "source": [
    "# group of statement\n",
    "if True : \n",
    "    print(\"Statement1 \")\n",
    "    print(\"Statement2\")\n",
    "else : \n",
    "    print(\"Statement3\")\n",
    "    print(\"Statement4\")"
   ]
  },
  {
   "cell_type": "code",
   "execution_count": 1,
   "metadata": {},
   "outputs": [
    {
     "name": "stdout",
     "output_type": "stream",
     "text": [
      "Hello World\n"
     ]
    }
   ],
   "source": [
    "print(\"Hello World\") if True else print(\"Bye\")"
   ]
  },
  {
   "cell_type": "code",
   "execution_count": 2,
   "metadata": {},
   "outputs": [
    {
     "name": "stdout",
     "output_type": "stream",
     "text": [
      "Bye\n"
     ]
    }
   ],
   "source": [
    "print(\"Hello World\") if False else print(\"Bye\")"
   ]
  },
  {
   "cell_type": "code",
   "execution_count": 5,
   "metadata": {},
   "outputs": [
    {
     "name": "stdout",
     "output_type": "stream",
     "text": [
      "Enter a number: 13\n",
      "13 is odd.\n"
     ]
    }
   ],
   "source": [
    "## Even/Odd\n",
    "\n",
    "num=int(input(\"Enter a number: \"))\n",
    "if (num%2==0):\n",
    "    print(\"%d is even.\"%(num))\n",
    "else:\n",
    "    print(\"%d is odd.\"%(num))"
   ]
  },
  {
   "cell_type": "code",
   "execution_count": 9,
   "metadata": {},
   "outputs": [
    {
     "name": "stdout",
     "output_type": "stream",
     "text": [
      "Enter a number: 7\n",
      "7 is odd.\n"
     ]
    }
   ],
   "source": [
    "## Even/Odd in one line\n",
    "\n",
    "num=int(input(\"Enter a number: \"))\n",
    "print(\"%d is odd.\"%(num)) if num%2 else print(\"%d is even.\"%(num))"
   ]
  },
  {
   "cell_type": "code",
   "execution_count": 10,
   "metadata": {},
   "outputs": [
    {
     "name": "stdout",
     "output_type": "stream",
     "text": [
      "\n",
      "Bye\n"
     ]
    }
   ],
   "source": [
    "print(\"hi\") if print() else print(\"Bye\")"
   ]
  },
  {
   "cell_type": "code",
   "execution_count": 12,
   "metadata": {},
   "outputs": [
    {
     "name": "stdout",
     "output_type": "stream",
     "text": [
      "\n",
      "None\n"
     ]
    }
   ],
   "source": [
    "print(print())"
   ]
  },
  {
   "cell_type": "code",
   "execution_count": 15,
   "metadata": {},
   "outputs": [
    {
     "name": "stdout",
     "output_type": "stream",
     "text": [
      "jsk\n",
      "Understood\n"
     ]
    }
   ],
   "source": [
    "if input():\n",
    "    print(\"Understood\")\n",
    "else:\n",
    "    print(\"Not understood\")"
   ]
  },
  {
   "cell_type": "code",
   "execution_count": 17,
   "metadata": {},
   "outputs": [
    {
     "name": "stdout",
     "output_type": "stream",
     "text": [
      "hi\n"
     ]
    }
   ],
   "source": [
    "if True:\n",
    "    print('hi')"
   ]
  },
  {
   "cell_type": "code",
   "execution_count": 18,
   "metadata": {},
   "outputs": [
    {
     "name": "stdout",
     "output_type": "stream",
     "text": [
      "Good Morning\n",
      "Bye\n"
     ]
    }
   ],
   "source": [
    "print(\"Good Morning\")\n",
    "if False:\n",
    "    print(\"Hii\")\n",
    "print(\"Bye\")"
   ]
  },
  {
   "cell_type": "code",
   "execution_count": 19,
   "metadata": {},
   "outputs": [
    {
     "name": "stdout",
     "output_type": "stream",
     "text": [
      "Good Morning\n",
      "Hii\n",
      "Bye\n"
     ]
    }
   ],
   "source": [
    "print(\"Good Morning\")\n",
    "if True:\n",
    "    print(\"Hii\")    \n",
    "print(\"Bye\")         # it'll always print"
   ]
  },
  {
   "cell_type": "markdown",
   "metadata": {},
   "source": [
    "## 2. if-elif"
   ]
  },
  {
   "cell_type": "code",
   "execution_count": 23,
   "metadata": {},
   "outputs": [
    {
     "name": "stdout",
     "output_type": "stream",
     "text": [
      "Enter age: 18\n",
      "It's your first time to vote.\n"
     ]
    }
   ],
   "source": [
    "## can vote or not\n",
    "## age > 18 he can vote\n",
    "## else he can vote\n",
    "\n",
    "vote=int(input(\"Enter age: \"))\n",
    "if vote>18:\n",
    "    print(\"You can vote.\")\n",
    "elif vote==18:\n",
    "    print(\"It's your first time to vote.\")\n",
    "else:\n",
    "    print(\"You are not eligible to vote.\")"
   ]
  },
  {
   "cell_type": "code",
   "execution_count": 25,
   "metadata": {},
   "outputs": [
    {
     "name": "stdout",
     "output_type": "stream",
     "text": [
      "Enter your saving: 820\n",
      "You can go to restaurant.\n"
     ]
    }
   ],
   "source": [
    "# greater 1000  --> he can go to movie\n",
    "# greater 800   ---> he can got to restro\n",
    "# else --> ghr baitho ipl dekho\n",
    "\n",
    "price=eval(input(\"Enter your saving: \"))\n",
    "if price>=1000:\n",
    "    print(\"You can go for movie.\")\n",
    "elif price>=800:\n",
    "    print(\"You can go to restaurant.\")\n",
    "else:\n",
    "    print(\"You can't go outside. Watch IPL at home.\")"
   ]
  },
  {
   "cell_type": "code",
   "execution_count": 35,
   "metadata": {},
   "outputs": [
    {
     "name": "stdout",
     "output_type": "stream",
     "text": [
      "Enter your profession:    govern,,ment\n",
      "Enter your salary: 70000\n",
      "You are eligible for loan.\n"
     ]
    }
   ],
   "source": [
    "# Give loan or not ? \n",
    "# ask for profession -->\n",
    "# if goverment then ask for salary \n",
    "    # salary is greater then 50000 give loan\n",
    "# else not eligible for loan\n",
    "\n",
    "\n",
    "profession=input(\"Enter your profession: \")\n",
    "profession=profession.strip().lower().replace(',','')\n",
    "profession=''.join(profession.split())\n",
    "if profession=='government':\n",
    "    salary=eval(input(\"Enter your salary: \"))\n",
    "    if salary >= 50000:\n",
    "        print(\"You are eligible for loan.\")\n",
    "    else:\n",
    "        print(\"You are not eligible for loan.\")\n",
    "else:\n",
    "    print(\"You are not eligible for loan.\")"
   ]
  },
  {
   "cell_type": "code",
   "execution_count": 40,
   "metadata": {},
   "outputs": [
    {
     "name": "stdout",
     "output_type": "stream",
     "text": [
      "Enter a: 7\n",
      "Enter b: 5\n",
      "Enter c: 9\n",
      "9 is greatest.\n"
     ]
    }
   ],
   "source": [
    "# greatest between three number \n",
    "# and or no\n",
    "\n",
    "a=int(input(\"Enter a: \"))\n",
    "b=int(input(\"Enter b: \"))\n",
    "c=int(input(\"Enter c: \"))\n",
    "if a>=b:\n",
    "    if b>=c:\n",
    "        print(f\"{a} is greatest.\")\n",
    "    else:\n",
    "        print(f\"{c} is greatest.\")\n",
    "elif b>=c:\n",
    "    print(f\"{b} is greatest.\")\n",
    "else:\n",
    "    print(f\"{c} is greatest.\")\n",
    "    "
   ]
  },
  {
   "cell_type": "code",
   "execution_count": 41,
   "metadata": {},
   "outputs": [
    {
     "data": {
      "text/plain": [
       "''"
      ]
     },
     "execution_count": 41,
     "metadata": {},
     "output_type": "execute_result"
    }
   ],
   "source": [
    "# Leap Year \n",
    "# Rock, Paper, Scissor\n",
    "\"\"\" choice --> rock,paper, scissor\n",
    "--------------------------------------\n",
    "|  Player1    | Player  |  win       |\n",
    "--------------------------------------\n",
    "|   rock      |  rock   |    Tie     |\n",
    "|   paper     |  paper  |    Tie     |\n",
    "|   scissor   |  scissor|    Tie     |\n",
    "|   rock      |  scissor|    player1 |\n",
    "|   paper     |  rock   |   player1  |\n",
    "|   scissor   |  paper  |   player1  |\n",
    "|------------------------------------|\n",
    "|  else                              |\n",
    "|  player2 wins                      |\n",
    "--------------------------------------\n",
    "\"\"\"\n",
    "\n",
    "\"\""
   ]
  },
  {
   "cell_type": "code",
   "execution_count": 1,
   "metadata": {},
   "outputs": [],
   "source": [
    "p1_wins=[\n",
    "        ('scissor','paper'),\n",
    "        ('rock','scissor'),\n",
    "        ('paper','rock')\n",
    "       ]"
   ]
  },
  {
   "cell_type": "code",
   "execution_count": 3,
   "metadata": {},
   "outputs": [
    {
     "data": {
      "text/plain": [
       "list"
      ]
     },
     "execution_count": 3,
     "metadata": {},
     "output_type": "execute_result"
    }
   ],
   "source": [
    "type(p1_wins)"
   ]
  },
  {
   "cell_type": "code",
   "execution_count": 2,
   "metadata": {},
   "outputs": [
    {
     "name": "stdout",
     "output_type": "stream",
     "text": [
      "Enter player1 choice: ········\n",
      "Enter player2 choice: ········\n",
      "Player2 win\n",
      "Player1 choice was:  rock\n",
      "Player2 choice was:  paper\n"
     ]
    }
   ],
   "source": [
    "from getpass import getpass\n",
    "player1=getpass(\"Enter player1 choice: \").strip().lower()\n",
    "player2=getpass(\"Enter player2 choice: \").strip().lower()\n",
    "win=(player1,player2)\n",
    "if win in p1_wins:\n",
    "    print(\"Player1 win\")\n",
    "elif player1==player2:\n",
    "    print(\"Game tie\")\n",
    "else:\n",
    "    print(\"Player2 win\")\n",
    "    \n",
    "print(\"Player1 choice was: \",player1)\n",
    "print(\"Player2 choice was: \",player2)"
   ]
  },
  {
   "cell_type": "code",
   "execution_count": 5,
   "metadata": {},
   "outputs": [
    {
     "name": "stdout",
     "output_type": "stream",
     "text": [
      "Enter month number: 5\n",
      "May\n"
     ]
    }
   ],
   "source": [
    "# input month number and print month name --> if month invalid print invalid month\n",
    "\n",
    "calendar={1:\"January\", 2: \"Febuary\",3:\"March\",4:\"April\",5:\"May\",6:\"June\",7:\"July\",8:\"August\",9:\"September\",10:\"October\",\n",
    "        11:\"November\",12:\"December\"}\n",
    "\n",
    "month=int(input(\"Enter month number: \"))\n",
    "print(calendar.get(month,\"Invalid\"))\n"
   ]
  },
  {
   "cell_type": "code",
   "execution_count": 11,
   "metadata": {},
   "outputs": [
    {
     "name": "stdout",
     "output_type": "stream",
     "text": [
      "Enter month number: 29\n",
      "Invalid Month\n"
     ]
    }
   ],
   "source": [
    "# input month number and print month name --> if month invalid print invalid month\n",
    "\n",
    "calendar={1:\"January\", 2: \"Febuary\",3:\"March\",4:\"April\",5:\"May\",6:\"June\",7:\"July\",8:\"August\",9:\"September\",10:\"October\",\n",
    "        11:\"November\",12:\"December\"}\n",
    "\n",
    "month=int(input(\"Enter month number: \"))\n",
    "if calendar.get(month,False):\n",
    "    print(\"Month is \",calendar.get(month))\n",
    "else:\n",
    "    print(\"Invalid Month\")\n"
   ]
  },
  {
   "cell_type": "code",
   "execution_count": null,
   "metadata": {},
   "outputs": [],
   "source": []
  }
 ],
 "metadata": {
  "kernelspec": {
   "display_name": "Python 3",
   "language": "python",
   "name": "python3"
  },
  "language_info": {
   "codemirror_mode": {
    "name": "ipython",
    "version": 3
   },
   "file_extension": ".py",
   "mimetype": "text/x-python",
   "name": "python",
   "nbconvert_exporter": "python",
   "pygments_lexer": "ipython3",
   "version": "3.7.3"
  }
 },
 "nbformat": 4,
 "nbformat_minor": 2
}
